{
 "cells": [
  {
   "cell_type": "code",
   "execution_count": null,
   "metadata": {},
   "outputs": [],
   "source": [
    "import string\n",
    "from collections import defaultdict \n",
    "with open('Mini Project.txt') as f:\n",
    "    content = f.readlines()\n",
    "content = [x.strip() for x in content]"
   ]
  },
  {
   "cell_type": "code",
   "execution_count": 104,
   "metadata": {},
   "outputs": [],
   "source": [
    "content = [x.lower() for x in content if x is not '']"
   ]
  },
  {
   "cell_type": "code",
   "execution_count": 105,
   "metadata": {},
   "outputs": [],
   "source": [
    "modified_content = []\n",
    "for x in content:\n",
    "    x = x.translate(x.maketrans(',',' ','\\\"'))\n",
    "    x = x.translate(x.maketrans('','',':'))\n",
    "    x = x.translate(x.maketrans('_',' ',''))\n",
    "    x = ' '.join(x.split())\n",
    "    head, sep, tail = x.partition('(')\n",
    "    x = head + tail\n",
    "    head, sep, tail = x.partition(')')\n",
    "    x = head + tail\n",
    "    modified_content.append(x)"
   ]
  },
  {
   "cell_type": "code",
   "execution_count": 106,
   "metadata": {},
   "outputs": [
    {
     "name": "stdout",
     "output_type": "stream",
     "text": [
      "create harbor gungan\n",
      "create airport galactic city\n",
      "create train station sith empire\n",
      "create warehouse naboo bhaiya 25 100\n",
      "create warehouse tatooine papa 50 200\n",
      "create warehouse coruscant didi 10 1000\n",
      "create truck ebon hawk 0 2000\n",
      "create truck falcon 2001 5000\n",
      "set path naboo bhaiya coruscant didi 60\n",
      "set path naboo bhaiya tatooine papa 80\n",
      "set path coruscant didi tatooine papa 100\n",
      "create item lightsaber 20 40 160\n",
      "create item sand 20 100 200\n",
      "create item sword 0 300 120\n",
      "create item shield 100 700 150\n",
      "order 1\n",
      "import 3 lightsaber from india to naboo\n",
      "import 5 lightsaber from india to tatooine\n",
      "order 2\n",
      "import 100 sand from china to coruscant\n",
      "import 80 sword from china to naboo\n",
      "order 66\n",
      "import 3 lightsaber from usa to coruscant\n",
      "transfer 2 lightsaber from tatooine to naboo\n",
      "export 2 lightsaber from tatooine to uk\n"
     ]
    }
   ],
   "source": [
    "for x in modified_content:\n",
    "    print (x)"
   ]
  },
  {
   "cell_type": "code",
   "execution_count": 107,
   "metadata": {},
   "outputs": [],
   "source": [
    "task_list = [x.split() for x in modified_content]"
   ]
  },
  {
   "cell_type": "code",
   "execution_count": 108,
   "metadata": {},
   "outputs": [],
   "source": [
    "graph = defaultdict(list) \n",
    "def addEdge(graph,u,v): \n",
    "    graph[u].append(v) \n",
    "    graph[v].append(u)\n",
    "    \n",
    "def generate_edges(graph): \n",
    "    edges = [] \n",
    "    for node in graph: \n",
    "        for neighbour in graph[node]: \n",
    "            edges.append((node, neighbour)) \n",
    "    return edges \n",
    "\n",
    "def find_path(graph, start, end, path = []):\n",
    "    path = path + [start] \n",
    "    if start == end:\n",
    "        return True \n",
    "    for node in graph[start]: \n",
    "        if node not in path: \n",
    "            newpath = find_path(graph, node, end, path) \n",
    "            if newpath:  \n",
    "                return True \n",
    "    return False\n",
    "\n",
    "def find_shortest_path(graph, start, end, path = []): \n",
    "        path = path + [start] \n",
    "        if start == end: \n",
    "            return path \n",
    "        shortest = None\n",
    "        for node in graph[start]: \n",
    "            if node not in path: \n",
    "                newpath = find_shortest_path(graph, node, end, path) \n",
    "                if newpath: \n",
    "                    if not shortest or len(newpath) < len(shortest): \n",
    "                        shortest = newpath \n",
    "        return shortest "
   ]
  },
  {
   "cell_type": "code",
   "execution_count": 109,
   "metadata": {},
   "outputs": [
    {
     "data": {
      "text/plain": [
       "[['create', 'harbor', 'gungan'],\n",
       " ['create', 'airport', 'galactic', 'city'],\n",
       " ['create', 'train', 'station', 'sith', 'empire'],\n",
       " ['create', 'warehouse', 'naboo', 'bhaiya', '25', '100'],\n",
       " ['create', 'warehouse', 'tatooine', 'papa', '50', '200'],\n",
       " ['create', 'warehouse', 'coruscant', 'didi', '10', '1000'],\n",
       " ['create', 'truck', 'ebon', 'hawk', '0', '2000'],\n",
       " ['create', 'truck', 'falcon', '2001', '5000'],\n",
       " ['set', 'path', 'naboo', 'bhaiya', 'coruscant', 'didi', '60'],\n",
       " ['set', 'path', 'naboo', 'bhaiya', 'tatooine', 'papa', '80'],\n",
       " ['set', 'path', 'coruscant', 'didi', 'tatooine', 'papa', '100'],\n",
       " ['create', 'item', 'lightsaber', '20', '40', '160'],\n",
       " ['create', 'item', 'sand', '20', '100', '200'],\n",
       " ['create', 'item', 'sword', '0', '300', '120'],\n",
       " ['create', 'item', 'shield', '100', '700', '150'],\n",
       " ['order', '1'],\n",
       " ['import', '3', 'lightsaber', 'from', 'india', 'to', 'naboo'],\n",
       " ['import', '5', 'lightsaber', 'from', 'india', 'to', 'tatooine'],\n",
       " ['order', '2'],\n",
       " ['import', '100', 'sand', 'from', 'china', 'to', 'coruscant'],\n",
       " ['import', '80', 'sword', 'from', 'china', 'to', 'naboo'],\n",
       " ['order', '66'],\n",
       " ['import', '3', 'lightsaber', 'from', 'usa', 'to', 'coruscant'],\n",
       " ['transfer', '2', 'lightsaber', 'from', 'tatooine', 'to', 'naboo'],\n",
       " ['export', '2', 'lightsaber', 'from', 'tatooine', 'to', 'uk']]"
      ]
     },
     "execution_count": 109,
     "metadata": {},
     "output_type": "execute_result"
    }
   ],
   "source": [
    "task_list"
   ]
  },
  {
   "cell_type": "code",
   "execution_count": 110,
   "metadata": {},
   "outputs": [],
   "source": [
    "first_airport = {'usa':{\"import\":[], \"export\":[]},'uk':{\"import\":[], \"export\":[]},\"italy\":{\"import\":[], \"export\":[]}}\n",
    "second_airport = {'wakanda':{\"import\":[], \"export\":[]},'germany':{\"import\":[], \"export\":[]},'ussr':{\"import\":[], \"export\":[]}}\n",
    "third_airport = {'brazil':{\"import\":[], \"export\":[]},'argentina':{\"import\":[], \"export\":[]},'ireland':{\"import\":[], \"export\":[]}}\n",
    "first_harbor = {'india':{\"import\":[], \"export\":[]},'indonesia':{\"import\":[], \"export\":[]},'hong_kong':{\"import\":[], \"export\":[]}}\n",
    "second_harbor = {'philipine':{\"import\":[], \"export\":[]},'singapore':{\"import\":[], \"export\":[]},'sri_lanka':{\"import\":[], \"export\":[]}}\n",
    "third_harbor = {'egypt':{\"import\":[], \"export\":[]},'congo':{\"import\":[], \"export\":[]},'madagascar':{\"import\":[], \"export\":[]}}\n",
    "first_train_station = {'vietnam':{\"import\":[], \"export\":[]},'china':{\"import\":[], \"export\":[]},'laos':{\"import\":[], \"export\":[]}}\n",
    "second_train_station = {'hungary':{\"import\":[], \"export\":[]},'austria':{\"import\":[], \"export\":[]},'myanmar':{\"import\":[], \"export\":[]}}\n",
    "third_train_station = {'bulgaria':{\"import\":[], \"export\":[]},'poland':{\"import\":[], \"export\":[]},'latvia':{\"import\":[], \"export\":[]}}"
   ]
  },
  {
   "cell_type": "code",
   "execution_count": 111,
   "metadata": {},
   "outputs": [
    {
     "name": "stdout",
     "output_type": "stream",
     "text": [
      "[('naboo bhaiya', 'coruscant didi'), ('naboo bhaiya', 'tatooine papa'), ('coruscant didi', 'naboo bhaiya'), ('coruscant didi', 'tatooine papa'), ('tatooine papa', 'naboo bhaiya'), ('tatooine papa', 'coruscant didi')]\n",
      "{'naboo bhaiya': [{'coruscant didi': 60}, {'tatooine papa': 80}], 'coruscant didi': [{'naboo bhaiya': 60}, {'tatooine papa': 100}], 'tatooine papa': [{'naboo bhaiya': 80}, {'coruscant didi': 100}]}\n"
     ]
    }
   ],
   "source": [
    "trucks = {}\n",
    "harbors = {}\n",
    "airports = {}\n",
    "train_stations = {}\n",
    "warehouses = {}\n",
    "items = {}\n",
    "distance = {}\n",
    "\n",
    "for l in task_list:\n",
    "    k = len(l)\n",
    "    if (l[1] == 'truck'):\n",
    "        s = ' '.join(l[2:k-2])\n",
    "        if s not in trucks.keys():\n",
    "            trucks[s] = {\"min_payload\":int(l[-2]), \"max_payload\":int(l[-1]), \"distance_travelled\":0}\n",
    "    elif (l[1] == 'harbor'):\n",
    "        s = ' '.join(l[2:])\n",
    "        if s not in harbors.keys():\n",
    "            harbors[s] = {\"import\":[], \"export\":[]}\n",
    "    elif (l[1] == 'airport'):\n",
    "        s = ' '.join(l[2:])\n",
    "        if s not in airports.keys():\n",
    "            airports[s] = {\"import\":[], \"export\":[]}\n",
    "    elif (l[1] == 'train' and l[2] == 'station'):\n",
    "        s = ' '.join(l[3:])\n",
    "        if s not in airports.keys():\n",
    "            train_stations[s] = {\"import\":[], \"export\":[]}\n",
    "    elif (l[1] == 'warehouse'):\n",
    "        s = ' '.join(l[2:k-2])\n",
    "        if s not in warehouses.keys():\n",
    "            warehouses[s] = {\"temperature\":int(l[-2]), \"slots\":int(l[-1])}\n",
    "    elif (l[1] == 'item'):\n",
    "        s = ' '.join(l[2:k-3])\n",
    "        if s not in items.keys():\n",
    "            items[s] = {\"min_temp\":int(l[-3]), \"max_temp\":int(l[-2]), \"weight\":int(l[-1])}\n",
    "    elif (l[0] == 'set' and l[1] == 'path'):\n",
    "        s = \"\"\n",
    "        for i in range(2,k-2):\n",
    "            s += \" \" + str(l[i])\n",
    "            s = s.strip()\n",
    "            if s in airports.keys() or s in harbors.keys() or s in warehouses.keys() or s in train_stations.keys() or s in first_airport.keys() or s in second_airport.keys() or s in third_airport.keys() or s in first_harbor.keys() or s in second_harbor.keys() or s in third_harbor.keys() or s in first_train_station.keys() or s in second_train_station.keys() or s in third_train_station.keys():\n",
    "                t = ' '.join(l[i+1:k-1])\n",
    "                addEdge(graph,s,t)\n",
    "                if s not in distance.keys():\n",
    "                    distance[s] = []\n",
    "                distance[s].append({t:int(l[-1])})\n",
    "                if t not in distance.keys():\n",
    "                    distance[t] = []\n",
    "                distance[t].append({s:int(l[-1])})\n",
    "                break\n",
    "pass\n",
    "print (generate_edges(graph))\n",
    "print (distance)"
   ]
  },
  {
   "cell_type": "code",
   "execution_count": 113,
   "metadata": {},
   "outputs": [
    {
     "name": "stdout",
     "output_type": "stream",
     "text": [
      "100\n"
     ]
    }
   ],
   "source": [
    "s = 'coruscant didi'\n",
    "t = 'tatooine papa'\n",
    "if find_path(graph, s, t):\n",
    "    l = find_shortest_path(graph, s, t)\n",
    "    path_sum = 0\n",
    "    for i in range(0,len(l)-1):\n",
    "        for j in range(0,len(distance[l[i]])):\n",
    "            if l[i+1] in distance[l[i]][j].keys():\n",
    "                path_sum += distance[l[i]][j][l[i+1]]\n",
    "    print (path_sum)\n",
    "else:\n",
    "    print (\"Path not found! Initiating shut down process triggers....\")"
   ]
  },
  {
   "cell_type": "code",
   "execution_count": null,
   "metadata": {},
   "outputs": [],
   "source": []
  }
 ],
 "metadata": {
  "kernelspec": {
   "display_name": "Python 3",
   "language": "python",
   "name": "python3"
  },
  "language_info": {
   "codemirror_mode": {
    "name": "ipython",
    "version": 3
   },
   "file_extension": ".py",
   "mimetype": "text/x-python",
   "name": "python",
   "nbconvert_exporter": "python",
   "pygments_lexer": "ipython3",
   "version": "3.7.0"
  }
 },
 "nbformat": 4,
 "nbformat_minor": 2
}
